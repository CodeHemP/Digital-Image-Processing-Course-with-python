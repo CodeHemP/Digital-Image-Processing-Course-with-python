{
 "cells": [
  {
   "cell_type": "markdown",
   "metadata": {},
   "source": [
    "# CLASE 4"
   ]
  },
  {
   "cell_type": "markdown",
   "metadata": {},
   "source": [
    "# Importar librerias \n"
   ]
  },
  {
   "cell_type": "code",
   "execution_count": null,
   "metadata": {},
   "outputs": [],
   "source": [
    "\n",
    "import matplotlib.pyplot as plt\n",
    "import numpy as np\n",
    "import cv2\n",
    "%matplotlib inline  \n",
    "\n",
    "plt.rcParams['figure.figsize'] = [10,5]"
   ]
  },
  {
   "cell_type": "markdown",
   "metadata": {},
   "source": [
    "### Lectura de camara"
   ]
  },
  {
   "cell_type": "code",
   "execution_count": null,
   "metadata": {},
   "outputs": [],
   "source": [
    "import numpy as np\n",
    "import cv2\n",
    "\n",
    "cap = cv2.VideoCapture(0)\n",
    "\n",
    "while(True):\n",
    "    # Capture frame-by-frame\n",
    "    ret, frame = cap.read()\n",
    "\n",
    "    # Our operations on the frame come here\n",
    "    gray = cv2.cvtColor(frame, cv2.COLOR_BGR2GRAY)\n",
    "\n",
    "    # Display the resulting frame\n",
    "    cv2.imshow('frame',gray)\n",
    "    if cv2.waitKey(1) & 0xFF == ord('q'):\n",
    "        break\n",
    "\n",
    "# When everything done, release the capture\n",
    "cap.release()\n",
    "cv2.destroyAllWindows()"
   ]
  },
  {
   "cell_type": "markdown",
   "metadata": {},
   "source": [
    "# Recordando los canales "
   ]
  },
  {
   "cell_type": "markdown",
   "metadata": {},
   "source": [
    "#### IMAGENES EN RGB\n",
    "\n"
   ]
  },
  {
   "cell_type": "code",
   "execution_count": null,
   "metadata": {},
   "outputs": [],
   "source": [
    "import matplotlib.pyplot as plt\n",
    "\n",
    "img_rgb = plt.imread('lena.png')\n",
    "plt.imshow(img_rgb)\n",
    "plt.show()"
   ]
  },
  {
   "cell_type": "markdown",
   "metadata": {},
   "source": [
    "#### IMAGENES EN BGR"
   ]
  },
  {
   "cell_type": "code",
   "execution_count": null,
   "metadata": {},
   "outputs": [],
   "source": [
    "img_bgr = cv2.imread('lena.png')\n",
    "plt.imshow(cv2.cvtColor(img_bgr,cv2.COLOR_BGR2RGB))\n",
    "plt.show()"
   ]
  },
  {
   "cell_type": "markdown",
   "metadata": {},
   "source": [
    "#### Imagenes en escala de grises"
   ]
  },
  {
   "cell_type": "code",
   "execution_count": null,
   "metadata": {},
   "outputs": [],
   "source": [
    "gray = cv2.cvtColor(img_rgb,cv2.COLOR_RGB2GRAY)\n",
    "plt.imshow(gray)\n",
    "plt.show()"
   ]
  },
  {
   "cell_type": "markdown",
   "metadata": {},
   "source": [
    "#### Para que se grafice en con el color negro, por costumbre :v"
   ]
  },
  {
   "cell_type": "code",
   "execution_count": null,
   "metadata": {},
   "outputs": [],
   "source": [
    "gray = cv2.cvtColor(img_rgb,cv2.COLOR_RGB2GRAY)\n",
    "plt.imshow(gray,cmap = 'gray')\n",
    "plt.show()"
   ]
  },
  {
   "cell_type": "markdown",
   "metadata": {},
   "source": [
    "#### Ploteando los 3 canales"
   ]
  },
  {
   "cell_type": "code",
   "execution_count": null,
   "metadata": {},
   "outputs": [],
   "source": [
    "plt.figure()\n",
    "plt.subplot(131)\n",
    "plt.imshow(img_rgb[:,:,0],cmap='gray')\n",
    "plt.title('R channel')\n",
    "plt.subplot(132)\n",
    "plt.imshow(img_rgb[:,:,1],cmap='gray')\n",
    "plt.title('G channel')\n",
    "plt.subplot(133)\n",
    "plt.imshow(img_rgb[:,:,2],cmap='gray')\n",
    "plt.title('B channel')\n",
    "plt.show()"
   ]
  },
  {
   "cell_type": "markdown",
   "metadata": {},
   "source": [
    "##### Segmentación"
   ]
  },
  {
   "cell_type": "code",
   "execution_count": null,
   "metadata": {},
   "outputs": [],
   "source": [
    "img_bgr = cv2.imread('pelota.jpg')\n",
    "plt.imshow(cv2.cvtColor(img_bgr,cv2.COLOR_BGR2RGB))\n",
    "plt.show()"
   ]
  },
  {
   "cell_type": "code",
   "execution_count": null,
   "metadata": {},
   "outputs": [],
   "source": [
    "import cv2\n",
    "import numpy as np\n",
    "import matplotlib.pyplot as plt\n",
    "def draw_rectangle(event, x, y, flags, params): \n",
    "    global x_init, y_init, drawing\n",
    "    def update_pts():\n",
    "        params[\"top_left_pt\"] = (min(x_init, x), min(y_init, y))\n",
    "        params[\"bottom_right_pt\"] = (max(x_init, x), max(y_init, y))\n",
    "        #img[y_init:y, x_init:x] = 255 - img[y_init:y, x_init:x]\n",
    "    if event == cv2.EVENT_LBUTTONDOWN: \n",
    "        drawing = True \n",
    "        x_init, y_init = x, y \n",
    " \n",
    "    elif event == cv2.EVENT_MOUSEMOVE and drawing:\n",
    "        update_pts() \n",
    " \n",
    "    elif event == cv2.EVENT_LBUTTONUP: \n",
    "        drawing = False \n",
    "        update_pts() \n",
    " \n",
    "if __name__=='__main__': \n",
    "    drawing = False \n",
    "    event_params = {\"top_left_pt\": (-1, -1), \"bottom_right_pt\": (-1, -1)}\n",
    "\n",
    "    cv2.namedWindow('Frame') \n",
    "    cv2.setMouseCallback('Frame', draw_rectangle, event_params) \n",
    "    frame = cv2.imread('pelota.jpg')\n",
    "    while True: \n",
    "        \n",
    "        img = cv2.resize(frame, (840,720), interpolation=cv2.INTER_AREA) \n",
    "        (x0,y0), (x1,y1) = event_params[\"top_left_pt\"], event_params[\"bottom_right_pt\"]\n",
    "        #img[y0:y1, x0:x1] = 255 - img[y0:y1, x0:x1] \n",
    "        img = cv2.rectangle(img,(x0,y0),(x1,y1),(0,255,0),3)\n",
    "        \n",
    "        cv2.imshow('Frame', img) \n",
    " \n",
    "        c = cv2.waitKey(1) \n",
    "        if c & 0xFF == ord('q'):\n",
    "            break  \n",
    "        if c & 0xFF == ord('a'):\n",
    "            cv2.imwrite('image.jpg',img[y0:y1,x0:x1,:])\n",
    "            print('save')\n",
    "    cv2.destroyAllWindows() \n"
   ]
  },
  {
   "cell_type": "code",
   "execution_count": null,
   "metadata": {},
   "outputs": [],
   "source": [
    "img_bgr = cv2.imread('image.jpg')\n",
    "img_new = cv2.cvtColor(img_bgr,cv2.COLOR_BGR2HSV)\n",
    "plt.imshow(img_new)\n",
    "plt.show()\n",
    "\n",
    "color = ('b','g','r')\n",
    "for i,col in enumerate(color):\n",
    "    histr = cv2.calcHist([img_new],[i],None,[256],[0,256])\n",
    "    plt.plot(histr,color = col)\n",
    "    plt.xlim([0,256])\n",
    "plt.show()"
   ]
  },
  {
   "cell_type": "code",
   "execution_count": null,
   "metadata": {},
   "outputs": [],
   "source": [
    "lower = np.array([145,230,0])    \n",
    "upper = np.array([180,255,255])\n",
    "img_blurred = img_new.copy()\n",
    "mask  = cv2.inRange(img_blurred, lower, upper)\n",
    "print(np.max(mask),np.min(mask))\n",
    "\n",
    "plt.imshow(mask,cmap = 'gray')\n",
    "plt.show()"
   ]
  },
  {
   "cell_type": "markdown",
   "metadata": {},
   "source": [
    "## OPERACIONES MORFOLOGICAS"
   ]
  },
  {
   "cell_type": "markdown",
   "metadata": {},
   "source": [
    "#### EROSION"
   ]
  },
  {
   "cell_type": "code",
   "execution_count": null,
   "metadata": {},
   "outputs": [],
   "source": [
    "kernel = np.ones((5,5),np.uint8)\n",
    "print('kernel = ')\n",
    "print(kernel)\n",
    "#print(mask.shape)\n",
    "erosion = cv2.erode(mask,kernel,iterations = 3)\n",
    "#print(erosion.shape)\n",
    "plt.figure()\n",
    "plt.subplot(121)\n",
    "plt.imshow(mask,cmap='gray')\n",
    "plt.title('original mask')\n",
    "plt.subplot(122)\n",
    "plt.imshow(erosion,cmap='gray')\n",
    "plt.title('mask with erosion')\n",
    "plt.show()"
   ]
  },
  {
   "cell_type": "markdown",
   "metadata": {},
   "source": [
    "#### DILATACION"
   ]
  },
  {
   "cell_type": "code",
   "execution_count": null,
   "metadata": {},
   "outputs": [],
   "source": [
    "kernel = np.ones((5,5),np.uint8)\n",
    "print('kernel = ')\n",
    "print(kernel)\n",
    "#print(mask.shape)\n",
    "dilation = cv2.dilate(mask,kernel,iterations = 3)\n",
    "#print(erosion.shape)\n",
    "plt.figure()\n",
    "plt.subplot(121)\n",
    "plt.imshow(mask,cmap='gray')\n",
    "plt.title('original mask')\n",
    "plt.subplot(122)\n",
    "plt.imshow(dilation,cmap='gray')\n",
    "plt.title('mask with dilate')\n",
    "plt.show()"
   ]
  },
  {
   "cell_type": "markdown",
   "metadata": {},
   "source": [
    "#### Seleccionando con camara"
   ]
  },
  {
   "cell_type": "markdown",
   "metadata": {},
   "source": [
    "## Deteccion de objetos"
   ]
  },
  {
   "cell_type": "code",
   "execution_count": null,
   "metadata": {},
   "outputs": [],
   "source": [
    "import cv2\n",
    "import numpy as np\n",
    "\n",
    "color=[]\n",
    "param1 = []\n",
    "param2 = []\n",
    "xi,yi=0,0\n",
    "cam =cv2.VideoCapture(0)\n",
    "img=cam.read()[1]\n",
    "#print (img)\n",
    "# mouse callback function\n",
    "def unsigned(a):\n",
    "    if(a<0):\n",
    "        return 0\n",
    "    elif( a>255 ):\n",
    "        return 255\n",
    "    return a\n",
    "\n",
    "def get_coordinates(event,x,y,flags,param):\n",
    "    global param1,param2,xi,yi\n",
    "    if event == cv2.EVENT_LBUTTONDBLCLK:\n",
    "        xi,yi=y,x\n",
    "        print (x,y)\n",
    "        print (param1,param2)\n",
    "        \n",
    "mirror=False\n",
    "xx,yy=0,0\n",
    "param1 = [122, 124, 151]\n",
    "param2 = [192, 194, 255]\n",
    "cv2.imshow('image',img)\n",
    "while(cam.isOpened()):\n",
    "    img = cam.read()[1]\n",
    "    #img_copy = np.copy(img)\n",
    "    img_blurred = cv2.blur(img,(30,30))\n",
    "    img_blurred = cv2.cvtColor(img_blurred,cv2.COLOR_BGR2LAB)\n",
    "    cv2.setMouseCallback('image',get_coordinates)\n",
    "    if(not (xx == xi and yy == yi)):\n",
    "        print (\"coordinated changed from: \",xx,yy,\" to: \",xi,yi)\n",
    "        xx,yy = xi,yi\n",
    "        if(mirror):\n",
    "            yi = abs(img_blurred.shape[1]-yi)\n",
    "            yy=yi\n",
    "        color = img_blurred[xi][yi]\n",
    "        param1 = [unsigned(color[0]-10),unsigned(color[1]-10),unsigned(color[2]-10)]\n",
    "        param2 = [unsigned(color[0]+10),unsigned(color[1]+10),unsigned(color[2]+10)]\n",
    "        \n",
    "    lower = np.array(param1)    \n",
    "    upper = np.array(param2)\n",
    "    hsv = img_blurred\n",
    "    mask  = cv2.inRange(img_blurred, lower, upper)\n",
    "    kernel = np.ones((4,4),np.uint8)\n",
    "    #print('kernel = ')\n",
    "    #print(kernel)\n",
    "    #print(mask.shape)\n",
    "    mask = cv2.dilate(mask,kernel,iterations = 2)\n",
    "    mask = cv2.erode(mask,kernel,iterations = 3)\n",
    "    \n",
    "    minVal, maxVal, minLoc, maxLoc =cv2.minMaxLoc(mask)\n",
    "    if(maxLoc[0]>0 and maxLoc[1]>0):\n",
    "        cv2.circle(img, maxLoc,30, (0,0,255),  3)\n",
    "    #cv2.circle(img_copy, minLoc, 50, (0,255,0), 3)\n",
    "    if(mirror):\n",
    "        img=cv2.flip(img,1)\n",
    "    cv2.imshow('mask',mask)\n",
    "    cv2.imshow('image',img)\n",
    "    if(cv2.waitKey(10) & 0xFF == ord('w')):\n",
    "        print (\"Image Flipped\")\n",
    "        mirror= not mirror\n",
    "    elif cv2.waitKey(10) & 0xFF == ord('q'):\n",
    "        break\n",
    "cv2.destroyAllWindows()\n",
    "cam.release()"
   ]
  },
  {
   "cell_type": "code",
   "execution_count": null,
   "metadata": {},
   "outputs": [],
   "source": []
  }
 ],
 "metadata": {
  "kernelspec": {
   "display_name": "Python 3",
   "language": "python",
   "name": "python3"
  },
  "language_info": {
   "codemirror_mode": {
    "name": "ipython",
    "version": 3
   },
   "file_extension": ".py",
   "mimetype": "text/x-python",
   "name": "python",
   "nbconvert_exporter": "python",
   "pygments_lexer": "ipython3",
   "version": "3.7.0"
  }
 },
 "nbformat": 4,
 "nbformat_minor": 4
}
