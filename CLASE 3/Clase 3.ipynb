{
 "cells": [
  {
   "cell_type": "markdown",
   "metadata": {},
   "source": [
    "# IMPORTAR LIBRERIAS"
   ]
  },
  {
   "cell_type": "code",
   "execution_count": 1,
   "metadata": {},
   "outputs": [],
   "source": [
    "#import matplotlib.pyplot as plt\n",
    "\n",
    "import cv2\n",
    "import numpy as np"
   ]
  },
  {
   "cell_type": "markdown",
   "metadata": {},
   "source": [
    "# USO DE WEBCAM"
   ]
  },
  {
   "cell_type": "code",
   "execution_count": 2,
   "metadata": {},
   "outputs": [],
   "source": [
    "import cv2 \n",
    " \n",
    "cap = cv2.VideoCapture(0)\n",
    " \n",
    "# Check if the webcam is opened correctly \n",
    "if not cap.isOpened(): \n",
    "    raise IOError(\"Cannot open webcam\") \n",
    " \n",
    "while True: \n",
    "    ret, frame = cap.read() \n",
    "    frame = cv2.resize(frame,(840,720), interpolation=cv2.INTER_AREA) \n",
    "    cv2.imshow('Input', frame) \n",
    " \n",
    "    if cv2.waitKey(1) & 0xFF == ord('q'):\n",
    "        break \n",
    " \n",
    "cap.release() \n",
    "cv2.destroyAllWindows() "
   ]
  },
  {
   "cell_type": "markdown",
   "metadata": {},
   "source": [
    "# USO DE VIDEO"
   ]
  },
  {
   "cell_type": "code",
   "execution_count": 3,
   "metadata": {},
   "outputs": [],
   "source": [
    "import cv2 \n",
    " \n",
    "cap = cv2.VideoCapture('videos/project_video.mp4')\n",
    " \n",
    "if not cap.isOpened(): \n",
    "    raise IOError(\"Cannot open webcam\") \n",
    " \n",
    "while True: \n",
    "    ret, frame = cap.read() \n",
    "    frame = cv2.resize(frame,(840,720), interpolation=cv2.INTER_AREA) \n",
    "    cv2.imshow('Input', frame) \n",
    " \n",
    "    if cv2.waitKey(1) & 0xFF == ord('q'):\n",
    "        break \n",
    " \n",
    "cap.release() \n",
    "cv2.destroyAllWindows() "
   ]
  },
  {
   "cell_type": "markdown",
   "metadata": {},
   "source": [
    "# MANEJO CON EL TECLADO"
   ]
  },
  {
   "cell_type": "code",
   "execution_count": 4,
   "metadata": {},
   "outputs": [
    {
     "name": "stdout",
     "output_type": "stream",
     "text": [
      "\n",
      "        Change color space of the\n",
      "        input video stream using keyboard controls. The control keys are: \n",
      "            1. Grayscale - press 'g'\n",
      "            2. YUV - press 'y'\n",
      "            3. HSV - press 'h'\n",
      "    \n"
     ]
    }
   ],
   "source": [
    "import cv2 \n",
    " \n",
    "def print_howto(): \n",
    "    print(\"\"\"\n",
    "            1. Grayscale - press 'g'\n",
    "            2. YUV -       press 'y'\n",
    "            3. HSV -       press 'h'\n",
    "    \"\"\")\n",
    " \n",
    "if __name__=='__main__': \n",
    "    print_howto() \n",
    "    cap = cv2.VideoCapture(0) \n",
    " \n",
    "    # Check if the webcam is opened correctly \n",
    "    if not cap.isOpened(): \n",
    "        raise IOError(\"Cannot open webcam\") \n",
    " \n",
    "    cur_mode = None\n",
    "    while True: \n",
    "        # Read the current frame from webcam \n",
    "        ret, frame = cap.read() \n",
    " \n",
    "        # Resize the captured image \n",
    "        frame = cv2.resize(frame, None, fx=0.5, fy=0.5, interpolation=cv2.INTER_AREA) \n",
    "        c = cv2.waitKey(1)\n",
    "        if c & 0xFF == ord('q'):\n",
    "            break \n",
    "        \n",
    "        if c != -1 and c != 255 and c != cur_mode:\n",
    "            cur_mode = c \n",
    " \n",
    "        if cur_mode == ord('g'): \n",
    "            output = cv2.cvtColor(frame, cv2.COLOR_BGR2GRAY) \n",
    "        elif cur_mode == ord('y'): \n",
    "            output = cv2.cvtColor(frame, cv2.COLOR_BGR2YUV) \n",
    "        elif cur_mode == ord('h'): \n",
    "            output = cv2.cvtColor(frame, cv2.COLOR_BGR2HSV) \n",
    "        else: \n",
    "            output = frame \n",
    "        cv2.imshow('Webcam', output) \n",
    " \n",
    "    cap.release() \n",
    "    cv2.destroyAllWindows() "
   ]
  },
  {
   "cell_type": "code",
   "execution_count": null,
   "metadata": {},
   "outputs": [],
   "source": [
    "# MANEJO CON EL MOUSE"
   ]
  },
  {
   "cell_type": "code",
   "execution_count": 5,
   "metadata": {},
   "outputs": [],
   "source": [
    "import cv2 \n",
    "import numpy as np \n",
    " \n",
    "def detect_quadrant(event, x, y, flags, param): \n",
    "    if event == cv2.EVENT_LBUTTONDOWN: \n",
    "        if x > width/2: \n",
    "            if y > height/2: \n",
    "                point_top_left = (int(width/2), int(height/2)) \n",
    "                point_bottom_right = (width-1, height-1) \n",
    "            else: \n",
    "                point_top_left = (int(width/2), 0) \n",
    "                point_bottom_right = (width-1, int(height/2)) \n",
    " \n",
    "        else: \n",
    "            if y > height/2: \n",
    "                point_top_left = (0, int(height/2)) \n",
    "                point_bottom_right = (int(width/2), height-1) \n",
    "            else: \n",
    "                point_top_left = (0, 0) \n",
    "                point_bottom_right = (int(width/2), int(height/2)) \n",
    "\n",
    "        img = param[\"img\"]\n",
    "        # Repaint all in white again\n",
    "        cv2.rectangle(img, (0,0), (width-1,height-1), (255,255,255), -1)\n",
    "        # Paint green quadrant \n",
    "        cv2.rectangle(img, point_top_left, point_bottom_right, (0,100,0), -1) \n",
    " \n",
    "if __name__=='__main__': \n",
    "    width, height = 640, 480 \n",
    "    img = 255 * np.ones((height, width, 3), dtype=np.uint8) \n",
    "    cv2.namedWindow('Input window') \n",
    "    cv2.setMouseCallback('Input window', detect_quadrant, {\"img\": img}) \n",
    " \n",
    "    while True: \n",
    "        cv2.imshow('Input window', img) \n",
    "        c = cv2.waitKey(1) \n",
    "        if c & 0xFF == ord('q'):\n",
    "            break \n",
    " \n",
    "    cv2.destroyAllWindows()"
   ]
  },
  {
   "cell_type": "markdown",
   "metadata": {},
   "source": [
    "# USANDO WEBCAM"
   ]
  },
  {
   "cell_type": "code",
   "execution_count": 1,
   "metadata": {},
   "outputs": [],
   "source": [
    "import cv2 \n",
    "import numpy as np \n",
    " \n",
    "def draw_rectangle(event, x, y, flags, params): \n",
    "    global x_init, y_init, drawing\n",
    "    def update_pts():\n",
    "        params[\"top_left_pt\"] = (min(x_init, x), min(y_init, y))\n",
    "        params[\"bottom_right_pt\"] = (max(x_init, x), max(y_init, y))\n",
    "        #img[y_init:y, x_init:x] = 255 - img[y_init:y, x_init:x]\n",
    "    if event == cv2.EVENT_LBUTTONDOWN: \n",
    "        drawing = True \n",
    "        x_init, y_init = x, y \n",
    " \n",
    "    elif event == cv2.EVENT_MOUSEMOVE and drawing:\n",
    "        update_pts() \n",
    " \n",
    "    elif event == cv2.EVENT_LBUTTONUP: \n",
    "        drawing = False \n",
    "        update_pts() \n",
    " \n",
    "if __name__=='__main__': \n",
    "    drawing = False \n",
    "    event_params = {\"top_left_pt\": (-1, -1), \"bottom_right_pt\": (-1, -1)}\n",
    " \n",
    "    cap = cv2.VideoCapture(0) \n",
    " \n",
    "    # Check if the webcam is opened correctly \n",
    "    if not cap.isOpened(): \n",
    "        raise IOError(\"Cannot open webcam\") \n",
    " \n",
    "    cv2.namedWindow('Webcam') \n",
    "    cv2.setMouseCallback('Webcam', draw_rectangle, event_params) \n",
    " \n",
    "    while True: \n",
    "        ret, frame = cap.read() \n",
    "        img = cv2.resize(frame, (840,720), interpolation=cv2.INTER_AREA) \n",
    "        (x0,y0), (x1,y1) = event_params[\"top_left_pt\"], event_params[\"bottom_right_pt\"]\n",
    "        #img[y0:y1, x0:x1] = 255 - img[y0:y1, x0:x1] \n",
    "        img = cv2.rectangle(img,(x0,y0),(x1,y1),(0,255,0),3)\n",
    "        cv2.imshow('Webcam', img) \n",
    " \n",
    "        c = cv2.waitKey(1) \n",
    "        if c & 0xFF == ord('q'):\n",
    "            break  \n",
    " \n",
    "    cap.release() \n",
    "    cv2.destroyAllWindows() \n"
   ]
  },
  {
   "cell_type": "code",
   "execution_count": 2,
   "metadata": {},
   "outputs": [],
   "source": [
    "# XD"
   ]
  },
  {
   "cell_type": "code",
   "execution_count": null,
   "metadata": {},
   "outputs": [],
   "source": []
  }
 ],
 "metadata": {
  "kernelspec": {
   "display_name": "Python 3",
   "language": "python",
   "name": "python3"
  },
  "language_info": {
   "codemirror_mode": {
    "name": "ipython",
    "version": 3
   },
   "file_extension": ".py",
   "mimetype": "text/x-python",
   "name": "python",
   "nbconvert_exporter": "python",
   "pygments_lexer": "ipython3",
   "version": "3.7.0"
  }
 },
 "nbformat": 4,
 "nbformat_minor": 4
}
