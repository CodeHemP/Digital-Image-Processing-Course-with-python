{
 "cells": [
  {
   "cell_type": "markdown",
   "metadata": {},
   "source": [
    "# IMPORTAR LIBRERIAS"
   ]
  },
  {
   "cell_type": "code",
   "execution_count": 44,
   "metadata": {},
   "outputs": [],
   "source": [
    "import matplotlib.pyplot as plt\n",
    "import cv2\n",
    "import numpy as np"
   ]
  },
  {
   "cell_type": "markdown",
   "metadata": {},
   "source": [
    "# USO DE WEBCAM"
   ]
  },
  {
   "cell_type": "markdown",
   "metadata": {},
   "source": [
    "#### Lectura de la webcam con opencv:\n",
    "- Insertar el índice de la camara: 0\n",
    "- o es la camara principal de tu laptop\n",
    "- cap = cv2.VideoCapture(0)\n"
   ]
  },
  {
   "cell_type": "code",
   "execution_count": 46,
   "metadata": {},
   "outputs": [],
   "source": [
    "\n",
    "cap = cv2.VideoCapture(0)\n",
    " \n",
    "# Check if the webcam is opened correctly \n",
    "if not cap.isOpened(): \n",
    "    raise IOError(\"Cannot open webcam\") \n",
    " \n",
    "while True: \n",
    "    ret, frame = cap.read() \n",
    "    frame = cv2.resize(frame,(840,720), interpolation=cv2.INTER_AREA) \n",
    "    cv2.imshow('Input', frame) \n",
    " \n",
    "    if cv2.waitKey(1) & 0xFF == ord('q'):\n",
    "        break \n",
    " \n",
    "cap.release() \n",
    "cv2.destroyAllWindows() "
   ]
  },
  {
   "cell_type": "markdown",
   "metadata": {},
   "source": [
    "# USO DE VIDEO\n",
    "\n",
    "- En lugar de poner el indice de la camara a usar, se coloca la dirección del video."
   ]
  },
  {
   "cell_type": "code",
   "execution_count": 39,
   "metadata": {},
   "outputs": [],
   "source": [
    "cap = cv2.VideoCapture('videos/project_video.mp4')\n",
    " \n",
    "if not cap.isOpened(): \n",
    "    raise IOError(\"Cannot open webcam\") \n",
    " \n",
    "while True: \n",
    "    ret, frame = cap.read() \n",
    "    frame = cv2.resize(frame,(840,720), interpolation=cv2.INTER_AREA) \n",
    "    cv2.imshow('Input', frame) \n",
    " \n",
    "    if cv2.waitKey(1) & 0xFF == ord('q'):\n",
    "        break \n",
    " \n",
    "cap.release() \n",
    "cv2.destroyAllWindows() "
   ]
  },
  {
   "cell_type": "markdown",
   "metadata": {},
   "source": [
    "# MANEJO CON EL TECLADO\n",
    "- Se lee el teclado para ver que se ha presionado: cv2.waitKey(1)"
   ]
  },
  {
   "cell_type": "code",
   "execution_count": 53,
   "metadata": {},
   "outputs": [
    {
     "name": "stdout",
     "output_type": "stream",
     "text": [
      "Maximo entero de 8 bits : \n",
      "value         =  255\n",
      "binary number =  0b11111111\n"
     ]
    }
   ],
   "source": [
    "print('Maximo entero de 8 bits : ')\n",
    "print('value         = ',0xFF)\n",
    "print('binary number = ',bin(0xFF))\n"
   ]
  },
  {
   "cell_type": "code",
   "execution_count": 54,
   "metadata": {},
   "outputs": [
    {
     "name": "stdout",
     "output_type": "stream",
     "text": [
      "\n",
      "            1. Grayscale - press 'g'\n",
      "            2. YUV -       press 'y'\n",
      "            3. HSV -       press 'h'\n",
      "    \n"
     ]
    }
   ],
   "source": [
    "\n",
    "def print_howto(): \n",
    "    print(\"\"\"\n",
    "            1. Grayscale - press 'g'\n",
    "            2. YUV -       press 'y'\n",
    "            3. HSV -       press 'h'\n",
    "    \"\"\")\n",
    "if __name__=='__main__': \n",
    "    print_howto() \n",
    "    cap = cv2.VideoCapture(0) \n",
    " \n",
    "    # Check if the webcam is opened correctly \n",
    "    if not cap.isOpened(): \n",
    "        raise IOError(\"Cannot open webcam\") \n",
    " \n",
    "    cur_mode = None\n",
    "    while True: \n",
    "        # Read the current frame from webcam \n",
    "        ret, frame = cap.read() \n",
    "        # Resize the captured image \n",
    "        frame = cv2.resize(frame, (720,600), interpolation=cv2.INTER_AREA) \n",
    "        c = cv2.waitKey(1)\n",
    "        #print(c) q is c=113\n",
    "        if c & 0xFF == ord('q'):\n",
    "            break \n",
    "        \n",
    "        if c != -1 and c != 255 and c != cur_mode:\n",
    "            cur_mode = c \n",
    " \n",
    "        if cur_mode == ord('g'): \n",
    "            output = cv2.cvtColor(frame, cv2.COLOR_BGR2GRAY) \n",
    "        elif cur_mode == ord('y'): \n",
    "            output = cv2.cvtColor(frame, cv2.COLOR_BGR2YUV) \n",
    "        elif cur_mode == ord('h'): \n",
    "            output = cv2.cvtColor(frame, cv2.COLOR_BGR2HSV) \n",
    "        else: \n",
    "            output = frame \n",
    "        cv2.imshow('Webcam', output) \n",
    " \n",
    "    cap.release() \n",
    "    cv2.destroyAllWindows() "
   ]
  },
  {
   "cell_type": "markdown",
   "metadata": {},
   "source": [
    "# MANEJO CON EL MOUSE\n",
    "\n",
    "### Existen 3 comandos especiales para reconocer eventos con el mouse :\n",
    "\n",
    "- EVENT_LBUTTONUP\n",
    "- EVENT_LBUTTONDOWN\n",
    "- EVENT_MOUSEMOVE"
   ]
  },
  {
   "cell_type": "markdown",
   "metadata": {},
   "source": [
    "## UP"
   ]
  },
  {
   "cell_type": "code",
   "execution_count": 55,
   "metadata": {},
   "outputs": [
    {
     "name": "stdout",
     "output_type": "stream",
     "text": [
      "[48 81 44]\n",
      "[48 81 44]\n",
      "[ 61 187 235]\n",
      "[ 61 187 235]\n"
     ]
    }
   ],
   "source": [
    "def print_RGB(event, x, y, flags, params): \n",
    "    if event == cv2.EVENT_LBUTTONUP: \n",
    "        print(img[x,y,:])\n",
    " \n",
    "if __name__=='__main__': \n",
    "    img = cv2.imread('images/pokemon.jpg')\n",
    "    cv2.namedWindow('Frame') \n",
    "    cv2.setMouseCallback('Frame',print_RGB,{\"img\": img})\n",
    " \n",
    "    while True: \n",
    "        img = cv2.resize(img, (720,600), interpolation=cv2.INTER_AREA) \n",
    "        cv2.imshow('Frame', img) \n",
    " \n",
    "        c = cv2.waitKey(1) \n",
    "        if c & 0xFF == ord('q'):\n",
    "            break  \n",
    "    cv2.destroyAllWindows() \n"
   ]
  },
  {
   "cell_type": "markdown",
   "metadata": {},
   "source": [
    "## DOWN"
   ]
  },
  {
   "cell_type": "code",
   "execution_count": 22,
   "metadata": {},
   "outputs": [
    {
     "name": "stdout",
     "output_type": "stream",
     "text": [
      "[ 53  76 135]\n",
      "[ 61 187 235]\n",
      "[ 61 187 235]\n",
      "[ 61 187 235]\n",
      "[ 61 187 235]\n"
     ]
    }
   ],
   "source": [
    "\n",
    "def print_RGB(event, x, y, flags, params): \n",
    "    if event == cv2.EVENT_LBUTTONDOWN: \n",
    "        print(img[x,y,:])\n",
    "if __name__=='__main__': \n",
    "    img = cv2.imread('images/pokemon.jpg')\n",
    "    cv2.namedWindow('Frame') \n",
    "    cv2.setMouseCallback('Frame',print_RGB,{\"img\": img})\n",
    " \n",
    "    while True: \n",
    "        img = cv2.resize(img, (720,600), interpolation=cv2.INTER_AREA) \n",
    "        cv2.imshow('Frame', img) \n",
    " \n",
    "        c = cv2.waitKey(1) \n",
    "        if c & 0xFF == ord('q'):\n",
    "            break  \n",
    "    cv2.destroyAllWindows() \n"
   ]
  },
  {
   "cell_type": "markdown",
   "metadata": {},
   "source": [
    "## MOVE"
   ]
  },
  {
   "cell_type": "markdown",
   "metadata": {},
   "source": [
    "- Imprimir los valores RGB de cada pixel, cuando el mouse se encuentre apuntando a este\n"
   ]
  },
  {
   "cell_type": "code",
   "execution_count": 56,
   "metadata": {},
   "outputs": [],
   "source": [
    "# font \n",
    "font = cv2.FONT_HERSHEY_SIMPLEX \n",
    "# coordenate\n",
    "org = (50, 50) \n",
    "# fontScale \n",
    "fontScale = 1\n",
    "# Blue color in BGR \n",
    "color = (255, 0, 0)   \n",
    "# Line thickness of 2 px \n",
    "thickness = 2\n",
    "# Using cv2.putText() method \n",
    "\n",
    "def print_RGB(event, x, y, flags, params): \n",
    "    global img_aux,img\n",
    "    img = img_aux.copy()\n",
    "    if event == cv2.EVENT_MOUSEMOVE: \n",
    "        img = cv2.putText(img,str(img_aux[y,x,:]), org, font,  \n",
    "                   fontScale, color, thickness, cv2.LINE_AA) \n",
    "\n",
    " \n",
    "if __name__=='__main__': \n",
    "    img = cv2.imread('images/pokemon.jpg')\n",
    "    img = cv2.resize(img, (720,600), interpolation=cv2.INTER_AREA) \n",
    "    img_aux = img.copy()\n",
    "    cv2.namedWindow('Frame') \n",
    "    cv2.setMouseCallback('Frame',print_RGB,{\"img\": img})\n",
    "    while True: \n",
    "        cv2.imshow('Frame', img) \n",
    "        c = cv2.waitKey(1) \n",
    "        if c & 0xFF == ord('q'):\n",
    "            break  \n",
    "    cv2.destroyAllWindows() \n"
   ]
  },
  {
   "cell_type": "markdown",
   "metadata": {},
   "source": [
    "# Aplicaciones"
   ]
  },
  {
   "cell_type": "markdown",
   "metadata": {},
   "source": [
    "### Detección de cuadrante dentro de una imagen\n",
    "- Haciendo click con el mouse se obtiene el cuadrante y se modifica el color de todos los pixeles que pertenecen a este"
   ]
  },
  {
   "cell_type": "code",
   "execution_count": 62,
   "metadata": {},
   "outputs": [],
   "source": [
    "\n",
    "def detect_quadrant(event, x, y, flags, param): \n",
    "    if event == cv2.EVENT_LBUTTONDOWN: \n",
    "        if x > width/2: \n",
    "            if y > height/2: \n",
    "                point_top_left = (int(width/2), int(height/2)) \n",
    "                point_bottom_right = (width-1, height-1) \n",
    "            else: \n",
    "                point_top_left = (int(width/2), 0) \n",
    "                point_bottom_right = (width-1, int(height/2)) \n",
    " \n",
    "        else: \n",
    "            if y > height/2: \n",
    "                point_top_left = (0, int(height/2)) \n",
    "                point_bottom_right = (int(width/2), height-1) \n",
    "            else: \n",
    "                point_top_left = (0, 0) \n",
    "                point_bottom_right = (int(width/2), int(height/2)) \n",
    "\n",
    "        img = param[\"img\"]\n",
    "        # Repaint all in white again\n",
    "        cv2.rectangle(img, (0,0), (width-1,height-1), (255,255,255), -1)\n",
    "        # Paint green quadrant \n",
    "        cv2.rectangle(img, point_top_left, point_bottom_right, (0,100,0), -1) \n",
    " \n",
    "if __name__=='__main__': \n",
    "    width, height = 640, 480 \n",
    "    img = 255 * np.ones((height, width, 3), dtype=np.uint8) \n",
    "    cv2.namedWindow('Input window') \n",
    "    cv2.setMouseCallback('Input window', detect_quadrant, {\"img\": img}) \n",
    " \n",
    "    while True: \n",
    "        cv2.imshow('Input window', img) \n",
    "        c = cv2.waitKey(1) \n",
    "        if c & 0xFF == ord('q'):\n",
    "            break \n",
    " \n",
    "    cv2.destroyAllWindows()"
   ]
  },
  {
   "cell_type": "markdown",
   "metadata": {},
   "source": [
    "### Dibujar un cuadrado\n",
    "\n",
    "- Se dibujara un cuadrado seleccionando 2 puntos de la imagen "
   ]
  },
  {
   "cell_type": "code",
   "execution_count": null,
   "metadata": {},
   "outputs": [],
   "source": [
    "\n",
    "def draw_rectangle(event, x, y, flags, params): \n",
    "    global x_init, y_init, drawing\n",
    "    def update_pts():\n",
    "        params[\"top_left_pt\"] = (min(x_init, x), min(y_init, y))\n",
    "        params[\"bottom_right_pt\"] = (max(x_init, x), max(y_init, y))\n",
    "        #img[y_init:y, x_init:x] = 255 - img[y_init:y, x_init:x]\n",
    "    if event == cv2.EVENT_LBUTTONDOWN: \n",
    "        drawing = True \n",
    "        x_init, y_init = x, y \n",
    " \n",
    "    elif event == cv2.EVENT_MOUSEMOVE and drawing:\n",
    "        update_pts() \n",
    " \n",
    "    elif event == cv2.EVENT_LBUTTONUP: \n",
    "        drawing = False \n",
    "        update_pts() \n",
    " \n",
    "if __name__=='__main__': \n",
    "    drawing = False \n",
    "    event_params = {\"top_left_pt\": (-1, -1), \"bottom_right_pt\": (-1, -1)}\n",
    "\n",
    "    cv2.namedWindow('Frame') \n",
    "    cv2.setMouseCallback('Frame', draw_rectangle, event_params) \n",
    "    frame = cv2.imread('images/pokemon.jpg')\n",
    "    while True: \n",
    "        \n",
    "        img = cv2.resize(frame, (840,720), interpolation=cv2.INTER_AREA) \n",
    "        (x0,y0), (x1,y1) = event_params[\"top_left_pt\"], event_params[\"bottom_right_pt\"]\n",
    "        #img[y0:y1, x0:x1] = 255 - img[y0:y1, x0:x1] \n",
    "        img = cv2.rectangle(img,(x0,y0),(x1,y1),(0,255,0),3)\n",
    "        cv2.imshow('Frame', img) \n",
    " \n",
    "        c = cv2.waitKey(1) \n",
    "        if c & 0xFF == ord('q'):\n",
    "            break  \n",
    "    cv2.destroyAllWindows() \n"
   ]
  },
  {
   "cell_type": "code",
   "execution_count": 60,
   "metadata": {},
   "outputs": [],
   "source": []
  },
  {
   "cell_type": "markdown",
   "metadata": {},
   "source": [
    "### MODIFICAR UNA IMAGEN SELECCIONANDO SU CUADRANTE"
   ]
  },
  {
   "cell_type": "code",
   "execution_count": 65,
   "metadata": {},
   "outputs": [],
   "source": [
    "\n",
    "def detect_quadrant(event, x, y, flags, param): \n",
    "    global img_aux\n",
    "    if event == cv2.EVENT_LBUTTONDOWN: \n",
    "        if x > width/2: \n",
    "            if y > height/2: \n",
    "                point_top_left = (int(width/2), int(height/2)) \n",
    "                point_bottom_right = (width-1, height-1) \n",
    "            else: \n",
    "                point_top_left = (int(width/2), 0) \n",
    "                point_bottom_right = (width-1, int(height/2)) \n",
    " \n",
    "        else: \n",
    "            if y > height/2: \n",
    "                point_top_left = (0, int(height/2)) \n",
    "                point_bottom_right = (int(width/2), height-1) \n",
    "            else: \n",
    "                point_top_left = (0, 0) \n",
    "                point_bottom_right = (int(width/2), int(height/2)) \n",
    "\n",
    "        img = param[\"img\"]\n",
    "        # Repaint all in white again\n",
    "        #cv2.rectangle(img, (0,0), (width-1,height-1), (255,255,255), -1)\n",
    "        # Paint green quadrant \n",
    "        img_aux = img.copy()\n",
    "        cv2.rectangle(img_aux, point_top_left, point_bottom_right, (0,100,0), -1) \n",
    " \n",
    "if __name__=='__main__': \n",
    "    width, height = 640, 480 \n",
    "    #img = 255 * np.ones((height, width, 3), dtype=np.uint8) \n",
    "    img = cv2.imread('images/pokemon.jpg')\n",
    "    img = cv2.resize(img,(width,height))\n",
    "    img_aux = img.copy()\n",
    "    cv2.namedWindow('Input window') \n",
    "    cv2.setMouseCallback('Input window', detect_quadrant, {\"img\": img}) \n",
    " \n",
    "    while True: \n",
    "        cv2.imshow('Input window', img_aux) \n",
    "        c = cv2.waitKey(1) \n",
    "        if c & 0xFF == ord('q'):\n",
    "            break \n",
    " \n",
    "    cv2.destroyAllWindows()"
   ]
  },
  {
   "cell_type": "markdown",
   "metadata": {},
   "source": [
    "### Dibujar un cuadrante usando la webcam"
   ]
  },
  {
   "cell_type": "code",
   "execution_count": 68,
   "metadata": {},
   "outputs": [],
   "source": [
    "\n",
    "def draw_rectangle(event, x, y, flags, params): \n",
    "    global x_init, y_init, drawing\n",
    "    def update_pts():\n",
    "        params[\"top_left_pt\"] = (min(x_init, x), min(y_init, y))\n",
    "        params[\"bottom_right_pt\"] = (max(x_init, x), max(y_init, y))\n",
    "        #img[y_init:y, x_init:x] = 255 - img[y_init:y, x_init:x]\n",
    "    if event == cv2.EVENT_LBUTTONDOWN: \n",
    "        drawing = True \n",
    "        x_init, y_init = x, y \n",
    " \n",
    "    elif event == cv2.EVENT_MOUSEMOVE and drawing:\n",
    "        update_pts() \n",
    " \n",
    "    elif event == cv2.EVENT_LBUTTONUP: \n",
    "        drawing = False \n",
    "        update_pts() \n",
    " \n",
    "if __name__=='__main__': \n",
    "    drawing = False \n",
    "    event_params = {\"top_left_pt\": (-1, -1), \"bottom_right_pt\": (-1, -1)}\n",
    " \n",
    "    cap = cv2.VideoCapture(0) \n",
    " \n",
    "    # Check if the webcam is opened correctly \n",
    "    if not cap.isOpened(): \n",
    "        raise IOError(\"Cannot open webcam\") \n",
    " \n",
    "    cv2.namedWindow('Webcam') \n",
    "    cv2.setMouseCallback('Webcam', draw_rectangle, event_params) \n",
    " \n",
    "    while True: \n",
    "        ret, frame = cap.read() \n",
    "        img = cv2.resize(frame, (840,720), interpolation=cv2.INTER_AREA) \n",
    "        (x0,y0), (x1,y1) = event_params[\"top_left_pt\"], event_params[\"bottom_right_pt\"]\n",
    "        #img[y0:y1, x0:x1] = 255 - img[y0:y1, x0:x1] \n",
    "        img = cv2.rectangle(img,(x0,y0),(x1,y1),(0,255,0),3)\n",
    "        cv2.imshow('Webcam', img) \n",
    " \n",
    "        c = cv2.waitKey(1) \n",
    "        if c & 0xFF == ord('q'):\n",
    "            break  \n",
    " \n",
    "    cap.release() \n",
    "    cv2.destroyAllWindows() \n"
   ]
  },
  {
   "cell_type": "code",
   "execution_count": null,
   "metadata": {},
   "outputs": [],
   "source": []
  },
  {
   "cell_type": "code",
   "execution_count": null,
   "metadata": {},
   "outputs": [],
   "source": []
  }
 ],
 "metadata": {
  "kernelspec": {
   "display_name": "Python 3",
   "language": "python",
   "name": "python3"
  },
  "language_info": {
   "codemirror_mode": {
    "name": "ipython",
    "version": 3
   },
   "file_extension": ".py",
   "mimetype": "text/x-python",
   "name": "python",
   "nbconvert_exporter": "python",
   "pygments_lexer": "ipython3",
   "version": "3.7.0"
  }
 },
 "nbformat": 4,
 "nbformat_minor": 4
}
